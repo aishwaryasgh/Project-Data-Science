{
 "cells": [
  {
   "cell_type": "markdown",
   "id": "70075954-b3c4-44be-b75e-4d14e8c9c2ea",
   "metadata": {},
   "source": [
    "# Sales Analysis for AAL - Q4 2020\n",
    "\n",
    "Project Description : This Python code analysis the sales performance of AAL across different states in Australia for Q4 2020.  \n",
    "\n",
    "Aim : To identify top-performing states, understand revenue trends, and recommend strategies to improve sales in underperforming regions.  \n",
    "\n",
    "### **Goal of the project**\n",
    "1. Perform **Data Wrangling** to clean and prepare the dataset.\n",
    "2. Conduct **Data Analysis** to find patterns and insights.\n",
    "3. Use **Data Visualization** to present findings effectively.\n",
    "4. Generate a structured **Report** for decision-making."
   ]
  },
  {
   "cell_type": "markdown",
   "id": "8eeb7fd1-f269-4beb-b176-3eec8e4a487c",
   "metadata": {},
   "source": [
    "# Performing the below following steps:\n",
    "1. Data wrangling  \n",
    "2. Data analysis  \n",
    "3. Data visualization  \n",
    "4. Report generation  \n"
   ]
  },
  {
   "cell_type": "markdown",
   "id": "ba5958ad-0bfd-4dbe-81f3-dbbacd14e13d",
   "metadata": {},
   "source": [
    "## Step 1 Loading the Dataset\n",
    "\n",
    "We import the dataset `AusApparalSales4thQrt2020.csv` into a Pandas DataFrame for analysis.  \n",
    "This dataset contains sales records across various Australian states for different demographics (Kids, Women, Men, and Seniors).\n"
   ]
  },
  {
   "cell_type": "code",
   "execution_count": 902,
   "id": "00f3ed84-7c0b-480e-a48b-e3bdfba71e8a",
   "metadata": {},
   "outputs": [],
   "source": [
    "#importing pandas for Dataframe conversion and do analysis of given dataset \n",
    "import pandas as pd"
   ]
  },
  {
   "cell_type": "code",
   "execution_count": 903,
   "id": "f47feec5-c9ee-4487-938d-b48a13ef56fc",
   "metadata": {},
   "outputs": [],
   "source": [
    "# Loading of the dataset AusApparalSales4thQrt2020\n",
    "file_path = \"AusApparalSales4thQrt2020.csv\""
   ]
  },
  {
   "cell_type": "code",
   "execution_count": 904,
   "id": "59ea3b27-a98a-4770-9124-56bf8e7cb16d",
   "metadata": {},
   "outputs": [],
   "source": [
    "#Loading of Data using read_csv command for AusApparalSales4thQrt2020\n",
    "df = pd.read_csv(file_path)"
   ]
  },
  {
   "cell_type": "code",
   "execution_count": 905,
   "id": "9984287b-ef55-4d79-b0e2-efa8e7928265",
   "metadata": {},
   "outputs": [
    {
     "name": "stdout",
     "output_type": "stream",
     "text": [
      "Summary Statistics of Data Set\n",
      "------------------------------\n"
     ]
    },
    {
     "data": {
      "text/html": [
       "<div>\n",
       "<style scoped>\n",
       "    .dataframe tbody tr th:only-of-type {\n",
       "        vertical-align: middle;\n",
       "    }\n",
       "\n",
       "    .dataframe tbody tr th {\n",
       "        vertical-align: top;\n",
       "    }\n",
       "\n",
       "    .dataframe thead th {\n",
       "        text-align: right;\n",
       "    }\n",
       "</style>\n",
       "<table border=\"1\" class=\"dataframe\">\n",
       "  <thead>\n",
       "    <tr style=\"text-align: right;\">\n",
       "      <th></th>\n",
       "      <th>Unit</th>\n",
       "      <th>Sales</th>\n",
       "    </tr>\n",
       "  </thead>\n",
       "  <tbody>\n",
       "    <tr>\n",
       "      <th>count</th>\n",
       "      <td>7560.000000</td>\n",
       "      <td>7560.000000</td>\n",
       "    </tr>\n",
       "    <tr>\n",
       "      <th>mean</th>\n",
       "      <td>18.005423</td>\n",
       "      <td>45013.558201</td>\n",
       "    </tr>\n",
       "    <tr>\n",
       "      <th>std</th>\n",
       "      <td>12.901403</td>\n",
       "      <td>32253.506944</td>\n",
       "    </tr>\n",
       "    <tr>\n",
       "      <th>min</th>\n",
       "      <td>2.000000</td>\n",
       "      <td>5000.000000</td>\n",
       "    </tr>\n",
       "    <tr>\n",
       "      <th>25%</th>\n",
       "      <td>8.000000</td>\n",
       "      <td>20000.000000</td>\n",
       "    </tr>\n",
       "    <tr>\n",
       "      <th>50%</th>\n",
       "      <td>14.000000</td>\n",
       "      <td>35000.000000</td>\n",
       "    </tr>\n",
       "    <tr>\n",
       "      <th>75%</th>\n",
       "      <td>26.000000</td>\n",
       "      <td>65000.000000</td>\n",
       "    </tr>\n",
       "    <tr>\n",
       "      <th>max</th>\n",
       "      <td>65.000000</td>\n",
       "      <td>162500.000000</td>\n",
       "    </tr>\n",
       "  </tbody>\n",
       "</table>\n",
       "</div>"
      ],
      "text/plain": [
       "              Unit          Sales\n",
       "count  7560.000000    7560.000000\n",
       "mean     18.005423   45013.558201\n",
       "std      12.901403   32253.506944\n",
       "min       2.000000    5000.000000\n",
       "25%       8.000000   20000.000000\n",
       "50%      14.000000   35000.000000\n",
       "75%      26.000000   65000.000000\n",
       "max      65.000000  162500.000000"
      ]
     },
     "execution_count": 905,
     "metadata": {},
     "output_type": "execute_result"
    }
   ],
   "source": [
    "#Summary statistics of Data set\n",
    "print(\"Summary Statistics of Data Set\")\n",
    "print(\"------------------------------\")\n",
    "df.describe()"
   ]
  },
  {
   "cell_type": "code",
   "execution_count": 906,
   "id": "bb09f866-e758-4a75-a487-7a5e8c7f4aac",
   "metadata": {},
   "outputs": [
    {
     "name": "stdout",
     "output_type": "stream",
     "text": [
      "Shape\n",
      "---------\n"
     ]
    },
    {
     "data": {
      "text/plain": [
       "(7560, 6)"
      ]
     },
     "execution_count": 906,
     "metadata": {},
     "output_type": "execute_result"
    }
   ],
   "source": [
    "#checking total number of rows and columns for the given Data set\n",
    "print(\"Shape\")\n",
    "print(\"---------\")\n",
    "df.shape"
   ]
  },
  {
   "cell_type": "code",
   "execution_count": 907,
   "id": "1e38b6fe-63fa-4761-912c-289895b7c4af",
   "metadata": {},
   "outputs": [
    {
     "name": "stdout",
     "output_type": "stream",
     "text": [
      "Basic Analysis of Data Set\n",
      "-----------------------------\n",
      "<class 'pandas.core.frame.DataFrame'>\n",
      "RangeIndex: 7560 entries, 0 to 7559\n",
      "Data columns (total 6 columns):\n",
      " #   Column  Non-Null Count  Dtype \n",
      "---  ------  --------------  ----- \n",
      " 0   Date    7560 non-null   object\n",
      " 1   Time    7560 non-null   object\n",
      " 2   State   7560 non-null   object\n",
      " 3   Group   7560 non-null   object\n",
      " 4   Unit    7560 non-null   int64 \n",
      " 5   Sales   7560 non-null   int64 \n",
      "dtypes: int64(2), object(4)\n",
      "memory usage: 354.5+ KB\n"
     ]
    }
   ],
   "source": [
    "#Basic analysis information about the dataset\n",
    "print(\"Basic Analysis of Data Set\")\n",
    "print(\"-----------------------------\")\n",
    "df_info = df.info()\n",
    "df_info"
   ]
  },
  {
   "cell_type": "code",
   "execution_count": 908,
   "id": "81a7fcca-88b5-4858-a97e-5bbeb5f9a2d8",
   "metadata": {},
   "outputs": [
    {
     "name": "stdout",
     "output_type": "stream",
     "text": [
      "First five values \n",
      "------------------\n"
     ]
    },
    {
     "data": {
      "text/html": [
       "<div>\n",
       "<style scoped>\n",
       "    .dataframe tbody tr th:only-of-type {\n",
       "        vertical-align: middle;\n",
       "    }\n",
       "\n",
       "    .dataframe tbody tr th {\n",
       "        vertical-align: top;\n",
       "    }\n",
       "\n",
       "    .dataframe thead th {\n",
       "        text-align: right;\n",
       "    }\n",
       "</style>\n",
       "<table border=\"1\" class=\"dataframe\">\n",
       "  <thead>\n",
       "    <tr style=\"text-align: right;\">\n",
       "      <th></th>\n",
       "      <th>Date</th>\n",
       "      <th>Time</th>\n",
       "      <th>State</th>\n",
       "      <th>Group</th>\n",
       "      <th>Unit</th>\n",
       "      <th>Sales</th>\n",
       "    </tr>\n",
       "  </thead>\n",
       "  <tbody>\n",
       "    <tr>\n",
       "      <th>0</th>\n",
       "      <td>1-Oct-2020</td>\n",
       "      <td>Morning</td>\n",
       "      <td>WA</td>\n",
       "      <td>Kids</td>\n",
       "      <td>8</td>\n",
       "      <td>20000</td>\n",
       "    </tr>\n",
       "    <tr>\n",
       "      <th>1</th>\n",
       "      <td>1-Oct-2020</td>\n",
       "      <td>Morning</td>\n",
       "      <td>WA</td>\n",
       "      <td>Men</td>\n",
       "      <td>8</td>\n",
       "      <td>20000</td>\n",
       "    </tr>\n",
       "    <tr>\n",
       "      <th>2</th>\n",
       "      <td>1-Oct-2020</td>\n",
       "      <td>Morning</td>\n",
       "      <td>WA</td>\n",
       "      <td>Women</td>\n",
       "      <td>4</td>\n",
       "      <td>10000</td>\n",
       "    </tr>\n",
       "    <tr>\n",
       "      <th>3</th>\n",
       "      <td>1-Oct-2020</td>\n",
       "      <td>Morning</td>\n",
       "      <td>WA</td>\n",
       "      <td>Seniors</td>\n",
       "      <td>15</td>\n",
       "      <td>37500</td>\n",
       "    </tr>\n",
       "    <tr>\n",
       "      <th>4</th>\n",
       "      <td>1-Oct-2020</td>\n",
       "      <td>Afternoon</td>\n",
       "      <td>WA</td>\n",
       "      <td>Kids</td>\n",
       "      <td>3</td>\n",
       "      <td>7500</td>\n",
       "    </tr>\n",
       "  </tbody>\n",
       "</table>\n",
       "</div>"
      ],
      "text/plain": [
       "         Date        Time State     Group  Unit  Sales\n",
       "0  1-Oct-2020     Morning    WA      Kids     8  20000\n",
       "1  1-Oct-2020     Morning    WA       Men     8  20000\n",
       "2  1-Oct-2020     Morning    WA     Women     4  10000\n",
       "3  1-Oct-2020     Morning    WA   Seniors    15  37500\n",
       "4  1-Oct-2020   Afternoon    WA      Kids     3   7500"
      ]
     },
     "execution_count": 908,
     "metadata": {},
     "output_type": "execute_result"
    }
   ],
   "source": [
    "#display first five rows in the data set\n",
    "print(\"First five values \")\n",
    "print(\"------------------\")\n",
    "df_head = df.head()\n",
    "df_head"
   ]
  },
  {
   "cell_type": "code",
   "execution_count": 909,
   "id": "4d559e83-0f1a-4b67-a53a-e56661507ecb",
   "metadata": {},
   "outputs": [
    {
     "name": "stdout",
     "output_type": "stream",
     "text": [
      "Last five values \n",
      "----------------\n"
     ]
    },
    {
     "data": {
      "text/html": [
       "<div>\n",
       "<style scoped>\n",
       "    .dataframe tbody tr th:only-of-type {\n",
       "        vertical-align: middle;\n",
       "    }\n",
       "\n",
       "    .dataframe tbody tr th {\n",
       "        vertical-align: top;\n",
       "    }\n",
       "\n",
       "    .dataframe thead th {\n",
       "        text-align: right;\n",
       "    }\n",
       "</style>\n",
       "<table border=\"1\" class=\"dataframe\">\n",
       "  <thead>\n",
       "    <tr style=\"text-align: right;\">\n",
       "      <th></th>\n",
       "      <th>Date</th>\n",
       "      <th>Time</th>\n",
       "      <th>State</th>\n",
       "      <th>Group</th>\n",
       "      <th>Unit</th>\n",
       "      <th>Sales</th>\n",
       "    </tr>\n",
       "  </thead>\n",
       "  <tbody>\n",
       "    <tr>\n",
       "      <th>7555</th>\n",
       "      <td>30-Dec-2020</td>\n",
       "      <td>Afternoon</td>\n",
       "      <td>TAS</td>\n",
       "      <td>Seniors</td>\n",
       "      <td>14</td>\n",
       "      <td>35000</td>\n",
       "    </tr>\n",
       "    <tr>\n",
       "      <th>7556</th>\n",
       "      <td>30-Dec-2020</td>\n",
       "      <td>Evening</td>\n",
       "      <td>TAS</td>\n",
       "      <td>Kids</td>\n",
       "      <td>15</td>\n",
       "      <td>37500</td>\n",
       "    </tr>\n",
       "    <tr>\n",
       "      <th>7557</th>\n",
       "      <td>30-Dec-2020</td>\n",
       "      <td>Evening</td>\n",
       "      <td>TAS</td>\n",
       "      <td>Men</td>\n",
       "      <td>15</td>\n",
       "      <td>37500</td>\n",
       "    </tr>\n",
       "    <tr>\n",
       "      <th>7558</th>\n",
       "      <td>30-Dec-2020</td>\n",
       "      <td>Evening</td>\n",
       "      <td>TAS</td>\n",
       "      <td>Women</td>\n",
       "      <td>11</td>\n",
       "      <td>27500</td>\n",
       "    </tr>\n",
       "    <tr>\n",
       "      <th>7559</th>\n",
       "      <td>30-Dec-2020</td>\n",
       "      <td>Evening</td>\n",
       "      <td>TAS</td>\n",
       "      <td>Seniors</td>\n",
       "      <td>13</td>\n",
       "      <td>32500</td>\n",
       "    </tr>\n",
       "  </tbody>\n",
       "</table>\n",
       "</div>"
      ],
      "text/plain": [
       "             Date        Time State     Group  Unit  Sales\n",
       "7555  30-Dec-2020   Afternoon   TAS   Seniors    14  35000\n",
       "7556  30-Dec-2020     Evening   TAS      Kids    15  37500\n",
       "7557  30-Dec-2020     Evening   TAS       Men    15  37500\n",
       "7558  30-Dec-2020     Evening   TAS     Women    11  27500\n",
       "7559  30-Dec-2020     Evening   TAS   Seniors    13  32500"
      ]
     },
     "execution_count": 909,
     "metadata": {},
     "output_type": "execute_result"
    }
   ],
   "source": [
    "#display last five rows in the data set\n",
    "print(\"Last five values \")\n",
    "print(\"----------------\")\n",
    "df_tail =  df.tail()\n",
    "df_tail"
   ]
  },
  {
   "cell_type": "markdown",
   "id": "fa2a3dcf-1528-4664-8751-25019daf3530",
   "metadata": {},
   "source": [
    "## Step 2 Data Wrangling\n",
    "\n",
    "### **Handling Missing Values**\n",
    "- We check for missing values using `isna()` and `notna()`.  \n",
    "- Missing data is handled by either **dropping** (`dropna()`) or **filling** (`fillna()`) values.  \n",
    "- In this case, [mention method used: e.g., filling missing values with mean].  \n",
    "\n",
    "### **Data Normalization**\n",
    "- The dataset is **normalized** to bring numerical values into a common scale without distorting differences.\n",
    "- Normalization is preferred over standardization because [explain reason: e.g., values have different scales].  \n",
    "\n",
    "### **Grouping the Data**\n",
    "- We use `groupby()` to segment data based on states and demographics for better insights.  \n"
   ]
  },
  {
   "cell_type": "code",
   "execution_count": 911,
   "id": "5fcf4c70-f9fc-46bf-a44d-4e7167bc0be8",
   "metadata": {},
   "outputs": [
    {
     "name": "stdout",
     "output_type": "stream",
     "text": [
      "Missing Values Before Handling:\n",
      " Date     0\n",
      "Time     0\n",
      "State    0\n",
      "Group    0\n",
      "Unit     0\n",
      "Sales    0\n",
      "dtype: int64\n"
     ]
    }
   ],
   "source": [
    "# Check missing values\n",
    "missing_values = df.isna().sum()\n",
    "print(\"Missing Values Before Handling:\\n\", missing_values)\n"
   ]
  },
  {
   "cell_type": "code",
   "execution_count": 912,
   "id": "8770eeff-3db4-438c-957c-f2593fe5c42e",
   "metadata": {},
   "outputs": [
    {
     "data": {
      "text/html": [
       "<div>\n",
       "<style scoped>\n",
       "    .dataframe tbody tr th:only-of-type {\n",
       "        vertical-align: middle;\n",
       "    }\n",
       "\n",
       "    .dataframe tbody tr th {\n",
       "        vertical-align: top;\n",
       "    }\n",
       "\n",
       "    .dataframe thead th {\n",
       "        text-align: right;\n",
       "    }\n",
       "</style>\n",
       "<table border=\"1\" class=\"dataframe\">\n",
       "  <thead>\n",
       "    <tr style=\"text-align: right;\">\n",
       "      <th></th>\n",
       "      <th>Date</th>\n",
       "      <th>Time</th>\n",
       "      <th>State</th>\n",
       "      <th>Group</th>\n",
       "      <th>Unit</th>\n",
       "      <th>Sales</th>\n",
       "    </tr>\n",
       "  </thead>\n",
       "  <tbody>\n",
       "    <tr>\n",
       "      <th>0</th>\n",
       "      <td>True</td>\n",
       "      <td>True</td>\n",
       "      <td>True</td>\n",
       "      <td>True</td>\n",
       "      <td>True</td>\n",
       "      <td>True</td>\n",
       "    </tr>\n",
       "    <tr>\n",
       "      <th>1</th>\n",
       "      <td>True</td>\n",
       "      <td>True</td>\n",
       "      <td>True</td>\n",
       "      <td>True</td>\n",
       "      <td>True</td>\n",
       "      <td>True</td>\n",
       "    </tr>\n",
       "    <tr>\n",
       "      <th>2</th>\n",
       "      <td>True</td>\n",
       "      <td>True</td>\n",
       "      <td>True</td>\n",
       "      <td>True</td>\n",
       "      <td>True</td>\n",
       "      <td>True</td>\n",
       "    </tr>\n",
       "    <tr>\n",
       "      <th>3</th>\n",
       "      <td>True</td>\n",
       "      <td>True</td>\n",
       "      <td>True</td>\n",
       "      <td>True</td>\n",
       "      <td>True</td>\n",
       "      <td>True</td>\n",
       "    </tr>\n",
       "    <tr>\n",
       "      <th>4</th>\n",
       "      <td>True</td>\n",
       "      <td>True</td>\n",
       "      <td>True</td>\n",
       "      <td>True</td>\n",
       "      <td>True</td>\n",
       "      <td>True</td>\n",
       "    </tr>\n",
       "    <tr>\n",
       "      <th>...</th>\n",
       "      <td>...</td>\n",
       "      <td>...</td>\n",
       "      <td>...</td>\n",
       "      <td>...</td>\n",
       "      <td>...</td>\n",
       "      <td>...</td>\n",
       "    </tr>\n",
       "    <tr>\n",
       "      <th>7555</th>\n",
       "      <td>True</td>\n",
       "      <td>True</td>\n",
       "      <td>True</td>\n",
       "      <td>True</td>\n",
       "      <td>True</td>\n",
       "      <td>True</td>\n",
       "    </tr>\n",
       "    <tr>\n",
       "      <th>7556</th>\n",
       "      <td>True</td>\n",
       "      <td>True</td>\n",
       "      <td>True</td>\n",
       "      <td>True</td>\n",
       "      <td>True</td>\n",
       "      <td>True</td>\n",
       "    </tr>\n",
       "    <tr>\n",
       "      <th>7557</th>\n",
       "      <td>True</td>\n",
       "      <td>True</td>\n",
       "      <td>True</td>\n",
       "      <td>True</td>\n",
       "      <td>True</td>\n",
       "      <td>True</td>\n",
       "    </tr>\n",
       "    <tr>\n",
       "      <th>7558</th>\n",
       "      <td>True</td>\n",
       "      <td>True</td>\n",
       "      <td>True</td>\n",
       "      <td>True</td>\n",
       "      <td>True</td>\n",
       "      <td>True</td>\n",
       "    </tr>\n",
       "    <tr>\n",
       "      <th>7559</th>\n",
       "      <td>True</td>\n",
       "      <td>True</td>\n",
       "      <td>True</td>\n",
       "      <td>True</td>\n",
       "      <td>True</td>\n",
       "      <td>True</td>\n",
       "    </tr>\n",
       "  </tbody>\n",
       "</table>\n",
       "<p>7560 rows × 6 columns</p>\n",
       "</div>"
      ],
      "text/plain": [
       "      Date  Time  State  Group  Unit  Sales\n",
       "0     True  True   True   True  True   True\n",
       "1     True  True   True   True  True   True\n",
       "2     True  True   True   True  True   True\n",
       "3     True  True   True   True  True   True\n",
       "4     True  True   True   True  True   True\n",
       "...    ...   ...    ...    ...   ...    ...\n",
       "7555  True  True   True   True  True   True\n",
       "7556  True  True   True   True  True   True\n",
       "7557  True  True   True   True  True   True\n",
       "7558  True  True   True   True  True   True\n",
       "7559  True  True   True   True  True   True\n",
       "\n",
       "[7560 rows x 6 columns]"
      ]
     },
     "execution_count": 912,
     "metadata": {},
     "output_type": "execute_result"
    }
   ],
   "source": [
    "#detect non-missing (non-null) values in a DataFrame\n",
    "df.notna()"
   ]
  },
  {
   "cell_type": "markdown",
   "id": "d8efd3f8-5cd1-4cf5-b0fb-dc5f1ac5652f",
   "metadata": {},
   "source": [
    "# **Suggestion**  \n",
    "\n",
    "Since no missing values were found, no further action was required. However, if missing values were present, we could have:  \n",
    "\n",
    "- Dropped them using `df.dropna()`  \n",
    "- Filled them using `df.fillna(method='ffill')` (forward fill) or `df.fillna(df.mean())` (for numerical columns)  \n"
   ]
  },
  {
   "cell_type": "markdown",
   "id": "3ffb158d-37c6-42bd-8c9b-12b3a8fa6928",
   "metadata": {},
   "source": [
    "# 1. Data Wrangling  \n",
    "\n",
    "d.  Share your insights regarding the application of the GroupBy() function for either data chunking or merging, and offer a recommendation based on your analysis.\n"
   ]
  },
  {
   "cell_type": "code",
   "execution_count": 915,
   "id": "537163ef-48f9-4372-b6fe-6868c081d9b5",
   "metadata": {},
   "outputs": [],
   "source": [
    "from sklearn.preprocessing import MinMaxScaler"
   ]
  },
  {
   "cell_type": "code",
   "execution_count": 916,
   "id": "2b24e356-6ada-4426-83bd-473a6c8dc828",
   "metadata": {},
   "outputs": [],
   "source": [
    "mm = MinMaxScaler()"
   ]
  },
  {
   "cell_type": "code",
   "execution_count": 917,
   "id": "9c0dff42-3485-4171-bf3f-8a7ddf12eb04",
   "metadata": {},
   "outputs": [],
   "source": [
    "normdf = mm.fit_transform(newdf)"
   ]
  },
  {
   "cell_type": "code",
   "execution_count": 918,
   "id": "d7c40c56-5b56-4345-8280-5755178f156f",
   "metadata": {},
   "outputs": [],
   "source": [
    "testdf = pd.DataFrame(normdf,columns=newdf.columns)"
   ]
  },
  {
   "cell_type": "code",
   "execution_count": 919,
   "id": "58214a1e-0860-41b4-bf70-7268f759c2d5",
   "metadata": {},
   "outputs": [
    {
     "data": {
      "text/html": [
       "<div>\n",
       "<style scoped>\n",
       "    .dataframe tbody tr th:only-of-type {\n",
       "        vertical-align: middle;\n",
       "    }\n",
       "\n",
       "    .dataframe tbody tr th {\n",
       "        vertical-align: top;\n",
       "    }\n",
       "\n",
       "    .dataframe thead th {\n",
       "        text-align: right;\n",
       "    }\n",
       "</style>\n",
       "<table border=\"1\" class=\"dataframe\">\n",
       "  <thead>\n",
       "    <tr style=\"text-align: right;\">\n",
       "      <th></th>\n",
       "      <th>0</th>\n",
       "      <th>1</th>\n",
       "      <th>2</th>\n",
       "      <th>3</th>\n",
       "      <th>4</th>\n",
       "      <th>5</th>\n",
       "      <th>6</th>\n",
       "      <th>7</th>\n",
       "      <th>8</th>\n",
       "      <th>9</th>\n",
       "      <th>...</th>\n",
       "      <th>7550</th>\n",
       "      <th>7551</th>\n",
       "      <th>7552</th>\n",
       "      <th>7553</th>\n",
       "      <th>7554</th>\n",
       "      <th>7555</th>\n",
       "      <th>7556</th>\n",
       "      <th>7557</th>\n",
       "      <th>7558</th>\n",
       "      <th>7559</th>\n",
       "    </tr>\n",
       "  </thead>\n",
       "  <tbody>\n",
       "    <tr>\n",
       "      <th>Unit</th>\n",
       "      <td>0.095238</td>\n",
       "      <td>0.095238</td>\n",
       "      <td>0.031746</td>\n",
       "      <td>0.206349</td>\n",
       "      <td>0.015873</td>\n",
       "      <td>0.126984</td>\n",
       "      <td>0.015873</td>\n",
       "      <td>0.142857</td>\n",
       "      <td>0.206349</td>\n",
       "      <td>0.206349</td>\n",
       "      <td>...</td>\n",
       "      <td>0.190476</td>\n",
       "      <td>0.142857</td>\n",
       "      <td>0.063492</td>\n",
       "      <td>0.206349</td>\n",
       "      <td>0.126984</td>\n",
       "      <td>0.190476</td>\n",
       "      <td>0.206349</td>\n",
       "      <td>0.206349</td>\n",
       "      <td>0.142857</td>\n",
       "      <td>0.174603</td>\n",
       "    </tr>\n",
       "    <tr>\n",
       "      <th>Sales</th>\n",
       "      <td>0.095238</td>\n",
       "      <td>0.095238</td>\n",
       "      <td>0.031746</td>\n",
       "      <td>0.206349</td>\n",
       "      <td>0.015873</td>\n",
       "      <td>0.126984</td>\n",
       "      <td>0.015873</td>\n",
       "      <td>0.142857</td>\n",
       "      <td>0.206349</td>\n",
       "      <td>0.206349</td>\n",
       "      <td>...</td>\n",
       "      <td>0.190476</td>\n",
       "      <td>0.142857</td>\n",
       "      <td>0.063492</td>\n",
       "      <td>0.206349</td>\n",
       "      <td>0.126984</td>\n",
       "      <td>0.190476</td>\n",
       "      <td>0.206349</td>\n",
       "      <td>0.206349</td>\n",
       "      <td>0.142857</td>\n",
       "      <td>0.174603</td>\n",
       "    </tr>\n",
       "  </tbody>\n",
       "</table>\n",
       "<p>2 rows × 7560 columns</p>\n",
       "</div>"
      ],
      "text/plain": [
       "           0         1         2         3         4         5         6     \\\n",
       "Unit   0.095238  0.095238  0.031746  0.206349  0.015873  0.126984  0.015873   \n",
       "Sales  0.095238  0.095238  0.031746  0.206349  0.015873  0.126984  0.015873   \n",
       "\n",
       "           7         8         9     ...      7550      7551      7552  \\\n",
       "Unit   0.142857  0.206349  0.206349  ...  0.190476  0.142857  0.063492   \n",
       "Sales  0.142857  0.206349  0.206349  ...  0.190476  0.142857  0.063492   \n",
       "\n",
       "           7553      7554      7555      7556      7557      7558      7559  \n",
       "Unit   0.206349  0.126984  0.190476  0.206349  0.206349  0.142857  0.174603  \n",
       "Sales  0.206349  0.126984  0.190476  0.206349  0.206349  0.142857  0.174603  \n",
       "\n",
       "[2 rows x 7560 columns]"
      ]
     },
     "execution_count": 919,
     "metadata": {},
     "output_type": "execute_result"
    }
   ],
   "source": [
    "testdf.T"
   ]
  },
  {
   "cell_type": "code",
   "execution_count": 920,
   "id": "4e75dbaf-ddcf-4245-ba65-e2214543eafd",
   "metadata": {},
   "outputs": [],
   "source": [
    "state_wise_totalsales=df.groupby('State')[\"Sales\"].sum().sort_values()\n"
   ]
  },
  {
   "cell_type": "code",
   "execution_count": 921,
   "id": "60badf4a-8e96-43b5-b5e3-fa66f1019ff4",
   "metadata": {},
   "outputs": [
    {
     "data": {
      "text/plain": [
       "State\n",
       "WA      22152500\n",
       "NT      22580000\n",
       "TAS     22760000\n",
       "QLD     33417500\n",
       "SA      58857500\n",
       "NSW     74970000\n",
       "VIC    105565000\n",
       "Name: Sales, dtype: int64"
      ]
     },
     "execution_count": 921,
     "metadata": {},
     "output_type": "execute_result"
    }
   ],
   "source": [
    "state_wise_totalsales"
   ]
  },
  {
   "cell_type": "code",
   "execution_count": 922,
   "id": "994551f1-b384-4a5b-96e5-3acf4c3a93be",
   "metadata": {},
   "outputs": [
    {
     "name": "stdout",
     "output_type": "stream",
     "text": [
      "State with Lowest Sales:  WA\n",
      "State with Highest Sales:  VIC\n"
     ]
    }
   ],
   "source": [
    "lowest_sales_state = state_wise_totalsales.idxmin()  # State with lowest sales\n",
    "highest_sales_state = state_wise_totalsales.idxmax()  # State with highest sales\n",
    "print(f\"State with Lowest Sales: {lowest_sales_state}\")\n",
    "print(f\"State with Highest Sales: {highest_sales_state}\")\n"
   ]
  },
  {
   "cell_type": "markdown",
   "id": "7ac5714d-c2c9-427b-a397-0c8789ac83a8",
   "metadata": {},
   "source": [
    "# 2. Data Analysis  \n",
    "## a.  \n",
    "Perform descriptive statistical analysis on the data in the Sales and Unit columns. Utilize techniques such as mean, median, mode, and standard deviation for this analysis.\n"
   ]
  },
  {
   "cell_type": "markdown",
   "id": "7b79d4ab-a1a4-45be-af3a-0a3964208278",
   "metadata": {},
   "source": [
    "## Data Analysis - Statistical Insights\n",
    "\n",
    "We compute various statistical measures to understand the sales data:\n",
    "\n",
    "- **Mean (`mean()`)**: Average sales value.\n",
    "- **Median (`median()`)**: Middle value in sales distribution.\n",
    "- **Mode (`mode()`)**: Most frequently occurring sales value.\n",
    "- **Standard Deviation (`std()`)**: Measure of variability in sales.\n",
    "\n",
    "### **Identifying Best & Worst Performing Groups**\n",
    "- We analyze state-wise and demographic-wise sales to determine **highest** and **lowest** revenue contributors.\n",
    "- This helps in designing sales strategies for underperforming regions.\n"
   ]
  },
  {
   "cell_type": "code",
   "execution_count": 925,
   "id": "dec52151-da1d-482e-9a7a-c718f0a4763c",
   "metadata": {},
   "outputs": [],
   "source": [
    "newdf=df[['Unit','Sales']]\n"
   ]
  },
  {
   "cell_type": "code",
   "execution_count": 926,
   "id": "e5df974e-4c30-47f9-a315-899a1fb756c6",
   "metadata": {},
   "outputs": [
    {
     "data": {
      "text/plain": [
       "Unit        18.005423\n",
       "Sales    45013.558201\n",
       "dtype: float64"
      ]
     },
     "execution_count": 926,
     "metadata": {},
     "output_type": "execute_result"
    }
   ],
   "source": [
    "newdf.mean()"
   ]
  },
  {
   "cell_type": "code",
   "execution_count": 927,
   "id": "f9cc44f8-cb39-4ca6-9d2a-99ce23da7f3b",
   "metadata": {},
   "outputs": [
    {
     "data": {
      "text/plain": [
       "Unit        14.0\n",
       "Sales    35000.0\n",
       "dtype: float64"
      ]
     },
     "execution_count": 927,
     "metadata": {},
     "output_type": "execute_result"
    }
   ],
   "source": [
    "newdf.median()"
   ]
  },
  {
   "cell_type": "code",
   "execution_count": 928,
   "id": "e4ced045-f184-41d4-af0b-9fcaf804d6d0",
   "metadata": {},
   "outputs": [
    {
     "data": {
      "text/html": [
       "<div>\n",
       "<style scoped>\n",
       "    .dataframe tbody tr th:only-of-type {\n",
       "        vertical-align: middle;\n",
       "    }\n",
       "\n",
       "    .dataframe tbody tr th {\n",
       "        vertical-align: top;\n",
       "    }\n",
       "\n",
       "    .dataframe thead th {\n",
       "        text-align: right;\n",
       "    }\n",
       "</style>\n",
       "<table border=\"1\" class=\"dataframe\">\n",
       "  <thead>\n",
       "    <tr style=\"text-align: right;\">\n",
       "      <th></th>\n",
       "      <th>Unit</th>\n",
       "      <th>Sales</th>\n",
       "    </tr>\n",
       "  </thead>\n",
       "  <tbody>\n",
       "    <tr>\n",
       "      <th>0</th>\n",
       "      <td>9</td>\n",
       "      <td>22500</td>\n",
       "    </tr>\n",
       "  </tbody>\n",
       "</table>\n",
       "</div>"
      ],
      "text/plain": [
       "   Unit  Sales\n",
       "0     9  22500"
      ]
     },
     "execution_count": 928,
     "metadata": {},
     "output_type": "execute_result"
    }
   ],
   "source": [
    "newdf.mode()"
   ]
  },
  {
   "cell_type": "code",
   "execution_count": 929,
   "id": "7e4b20bd-65f3-4cd6-accb-7f86288379f2",
   "metadata": {},
   "outputs": [
    {
     "data": {
      "text/plain": [
       "Unit        12.901403\n",
       "Sales    32253.506944\n",
       "dtype: float64"
      ]
     },
     "execution_count": 929,
     "metadata": {},
     "output_type": "execute_result"
    }
   ],
   "source": [
    "newdf.std()"
   ]
  },
  {
   "cell_type": "markdown",
   "id": "dd745d06-4501-4b18-87ae-2196e13a8422",
   "metadata": {},
   "source": [
    "# 2. Data Analysis  \n",
    "\n",
    "## b.  \n",
    "Identify the group with the highest sales and the group with the lowest sales based on the data provided.\n"
   ]
  },
  {
   "cell_type": "code",
   "execution_count": 931,
   "id": "fa67dba2-6b80-4478-98a2-4f43db5d16ba",
   "metadata": {},
   "outputs": [
    {
     "data": {
      "text/plain": [
       "State\n",
       "VIC    105565000\n",
       "NSW     74970000\n",
       "SA      58857500\n",
       "QLD     33417500\n",
       "TAS     22760000\n",
       "NT      22580000\n",
       "WA      22152500\n",
       "Name: Sales, dtype: int64"
      ]
     },
     "execution_count": 931,
     "metadata": {},
     "output_type": "execute_result"
    }
   ],
   "source": [
    "# State-wise total revenue calculation\n",
    "state_revenue = df.groupby(\"State\")[\"Sales\"].sum().sort_values(ascending=False)\n",
    "state_revenue"
   ]
  },
  {
   "cell_type": "code",
   "execution_count": 932,
   "id": "8296be81-c55b-4968-a678-3089222f0286",
   "metadata": {},
   "outputs": [
    {
     "name": "stdout",
     "output_type": "stream",
     "text": [
      "Highest Sales:  VIC - 105565000\n",
      "Lowest Sales:  WA - 22152500\n"
     ]
    }
   ],
   "source": [
    "highest_sales_state = state_revenue.idxmax()  # State with highest sales\n",
    "lowest_sales_state = state_revenue.idxmin()   # State with lowest sales\n",
    "print(f\"Highest Sales: {highest_sales_state} - {state_revenue.max()}\")\n",
    "print(f\"Lowest Sales: {lowest_sales_state} - {state_revenue.min()}\")"
   ]
  },
  {
   "cell_type": "markdown",
   "id": "cb3eb769-5359-4e8a-a3b0-a86d64ee33cb",
   "metadata": {},
   "source": [
    "# 2. Data Analysis  \n",
    "\n",
    "## c.  \n",
    "Identify the group with the highest and lowest sales based on the data provided.\n"
   ]
  },
  {
   "cell_type": "code",
   "execution_count": 934,
   "id": "597106a2-82b7-4811-98f5-9452022c6cd5",
   "metadata": {},
   "outputs": [
    {
     "name": "stdout",
     "output_type": "stream",
     "text": [
      "Highest Sales Group:\n",
      "                         Time State   Group  Unit  Sales\n",
      "Group Date                                             \n",
      "Kids  2020-12-16     Morning    WA    Kids    10  25000\n",
      "      2020-12-16   Afternoon    WA    Kids    14  35000\n",
      "      2020-12-16     Evening    WA    Kids     5  12500\n",
      "      2020-12-16     Morning    NT    Kids    12  30000\n",
      "      2020-12-16   Afternoon    NT    Kids    15  37500\n",
      "...                      ...   ...     ...   ...    ...\n",
      "Women 2020-12-10   Afternoon   NSW   Women    36  90000\n",
      "      2020-12-10     Evening   NSW   Women    37  92500\n",
      "      2020-12-10     Morning   TAS   Women     5  12500\n",
      "      2020-12-10   Afternoon   TAS   Women    15  37500\n",
      "      2020-12-10     Evening   TAS   Women     7  17500\n",
      "\n",
      "[84 rows x 5 columns]\n"
     ]
    }
   ],
   "source": [
    "highest_sales_group = grouped_df1.apply(lambda x: x.loc[x['Sales'].idxmax()])\n",
    "print(\"Highest Sales Group:\\n\" ,highest_sales_group)\n"
   ]
  },
  {
   "cell_type": "code",
   "execution_count": 935,
   "id": "f81161a0-9dc7-4cf0-a083-f7bd24454233",
   "metadata": {},
   "outputs": [
    {
     "name": "stdout",
     "output_type": "stream",
     "text": [
      "Lowest Sales Group:\n",
      "                         Time State   Group  Unit  Sales\n",
      "Group Date                                             \n",
      "Kids  2020-11-04     Morning    WA    Kids     2   5000\n",
      "      2020-11-04   Afternoon    WA    Kids     7  17500\n",
      "      2020-11-04     Evening    WA    Kids     7  17500\n",
      "      2020-11-04     Morning    NT    Kids     2   5000\n",
      "      2020-11-04   Afternoon    NT    Kids     9  22500\n",
      "...                      ...   ...     ...   ...    ...\n",
      "Women 2020-11-01   Afternoon   NSW   Women    26  65000\n",
      "      2020-11-01     Evening   NSW   Women    35  87500\n",
      "      2020-11-01     Morning   TAS   Women     2   5000\n",
      "      2020-11-01   Afternoon   TAS   Women     6  15000\n",
      "      2020-11-01     Evening   TAS   Women     9  22500\n",
      "\n",
      "[84 rows x 5 columns]\n"
     ]
    }
   ],
   "source": [
    "lowest_sales_group = grouped_df1.apply(lambda x: x.loc[x['Sales'].idxmin()])\n",
    "print(\"Lowest Sales Group:\\n\", lowest_sales_group)"
   ]
  },
  {
   "cell_type": "markdown",
   "id": "65b84725-ac35-4fa2-88ca-9bfdaca758e8",
   "metadata": {},
   "source": [
    "## 2. Data Analysis  \n",
    "\n",
    "### d.  \n",
    "Generate weekly, monthly, and quarterly reports to document and present the results of the analysis conducted.  \n",
    "(Use suitable libraries such as NumPy, Pandas, and SciPy for performing the analysis.)\n"
   ]
  },
  {
   "cell_type": "markdown",
   "id": "f1a27100-b288-4b06-a95d-d2bf5301e872",
   "metadata": {},
   "source": [
    "## Generating Weekly, Monthly, and Quarterly Reports  \n",
    "\n",
    "### **Observations from Reports:**  \n",
    "- **Weekly Sales Trends:** [Summarize key insights, e.g., \"Sales peaked on weekends, indicating high weekend demand\"].  \n",
    "- **Monthly Performance:** [Summarize trends, e.g., \"December showed the highest revenue, likely due to holiday sales\"].  \n",
    "- **Quarterly Summary:** [Summarize key takeaways, e.g., \"Q4 revenue increased by X% compared to Q3, highlighting seasonal trends\"].  \n",
    "\n",
    "These reports help in **forecasting demand** and **designing marketing strategies** for future quarters.\n"
   ]
  },
  {
   "cell_type": "code",
   "execution_count": 938,
   "id": "b35c7ab8-8d2a-410e-aafe-0478f28111d1",
   "metadata": {},
   "outputs": [],
   "source": [
    "# Convert 'Date' column to datetime format\n",
    "import numpy as np\n",
    "df['Date'] = pd.to_datetime(df['Date'], format='mixed', errors='coerce')\n",
    "df['Date'] = pd.to_datetime(df['Date'], format=\"%d-%b-%y\")\n",
    "\n",
    "# Extract week, month, and quarter\n",
    "df['Week'] = df['Date'].dt.isocalendar().week\n",
    "df['Month'] = df['Date'].dt.month\n",
    "df['Quarter'] = df['Date'].dt.quarter"
   ]
  },
  {
   "cell_type": "code",
   "execution_count": 939,
   "id": "543dcc9e-d8c9-4666-a59a-ef96e5ac4936",
   "metadata": {},
   "outputs": [],
   "source": [
    "# Generate Weekly Sales Report\n",
    "weekly_sales = df.groupby('Week')['Sales'].sum().reset_index()"
   ]
  },
  {
   "cell_type": "code",
   "execution_count": 940,
   "id": "5afe8f47-c1ff-428a-a44e-59e26579a299",
   "metadata": {},
   "outputs": [],
   "source": [
    "# Generate Monthly Sales Report\n",
    "monthly_sales = df.groupby('Month')['Sales'].sum().reset_index()"
   ]
  },
  {
   "cell_type": "code",
   "execution_count": 941,
   "id": "093ddbcf-eeda-4435-9487-28bbe4ed8177",
   "metadata": {},
   "outputs": [],
   "source": [
    "# Generate Quarterly Sales Report\n",
    "quarterly_sales = df.groupby('Quarter')['Sales'].sum().reset_index()"
   ]
  },
  {
   "cell_type": "code",
   "execution_count": 942,
   "id": "56836403-a632-4c83-a476-0cca65e78ce1",
   "metadata": {},
   "outputs": [],
   "source": [
    "# Save reports to CSV\n",
    "weekly_sales.to_csv(\"weekly_sales_report.csv\", index=False)\n",
    "monthly_sales.to_csv(\"monthly_sales_report.csv\", index=False)\n",
    "quarterly_sales.to_csv(\"quarterly_sales_report.csv\", index=False)"
   ]
  },
  {
   "cell_type": "markdown",
   "id": "08c5e65b-bc33-4167-8d79-cc1026f680b3",
   "metadata": {},
   "source": [
    "## Data Visualization - Sales Trends  \n",
    "\n",
    "### **1️ State-wise Sales Analysis (Bar Chart)**\n",
    "- A bar chart is used to compare total revenue across different Australian states.\n",
    "- **Insight:** [Summarize key trend, e.g., \"New South Wales (NSW) has the highest revenue, while Tasmania (TAS) has the lowest\"].\n",
    "\n",
    "### ** Demographic Group Analysis (Stacked Bar Chart)**\n",
    "- We analyze sales for different demographics (Kids, Women, Men, and Seniors) across all states.\n",
    "- **Insight:** [Summarize trend, e.g., \"Men's clothing contributes the most revenue in all states, while Seniors' clothing has the least sales\"].\n",
    "\n",
    "### **3️Peak & Off-Peak Sales Analysis (Line Chart)**\n",
    "- A time-based line chart helps in understanding sales trends throughout the day.\n",
    "- **Insight:** [Summarize trend, e.g., \"Peak sales occur between 6 PM - 9 PM, indicating high evening demand\"] "
   ]
  },
  {
   "cell_type": "code",
   "execution_count": 992,
   "id": "e7ae7e5c-7fd3-44a5-8a18-ea8e90afd712",
   "metadata": {},
   "outputs": [],
   "source": [
    "import matplotlib.pyplot as plt\n",
    "import seaborn as sns\n",
    "# Convert 'Date' column to datetime format\n",
    "df['Date'] = pd.to_datetime(df['Date'], errors='coerce')"
   ]
  },
  {
   "cell_type": "code",
   "execution_count": 1008,
   "id": "f9a9673a-5e57-4a2c-8e3f-1156e95c644a",
   "metadata": {},
   "outputs": [
    {
     "data": {
      "image/png": "[encoded data removed]",
      "text/plain": [
       "<Figure size 1000x600 with 1 Axes>"
      ]
     },
     "metadata": {},
     "output_type": "display_data"
    }
   ],
   "source": [
    "# Set theme for better aesthetics\n",
    "sns.set_theme(style=\"whitegrid\")\n",
    "\n",
    "plt.figure(figsize=(10, 6))  # Increase figure size\n",
    "sns.barplot(x='State', y='Sales', hue='Group', data=df, errorbar=None, palette=\"Set1\")\n",
    "\n",
    "plt.title('State-wise Sales Analysis by Demographic Group', fontsize=14)\n",
    "plt.xlabel('State', fontsize=12)\n",
    "plt.ylabel('Total Sales (AUD)', fontsize=12)\n",
    "plt.legend(title='Group', fontsize=10)\n",
    "\n",
    "plt.show()\n"
   ]
  },
  {
   "cell_type": "code",
   "execution_count": 1014,
   "id": "5b910067-f56f-4e72-88a8-89111fd42378",
   "metadata": {},
   "outputs": [
    {
     "data": {
      "image/png": "[encoded data removed]",
      "text/plain": [
       "<Figure size 1000x400 with 1 Axes>"
      ]
     },
     "metadata": {},
     "output_type": "display_data"
    }
   ],
   "source": [
    "\n",
    "# Group-wise sales analysis across states\n",
    "plt.figure(figsize=(10, 4))\n",
    "sns.barplot(x='Group', y='Sales', hue='Group', data=df, estimator=sum, errorbar=None,palette=\"Set1\")\n",
    "plt.title('Group-wise Sales Analysis Across States')\n",
    "plt.xlabel('Demographic Group')\n",
    "plt.ylabel('Total Sales (AUD)')\n",
    "plt.show()\n"
   ]
  },
  {
   "cell_type": "code",
   "execution_count": 1016,
   "id": "935c934e-6c05-402b-8820-e689a975076b",
   "metadata": {},
   "outputs": [
    {
     "data": {
      "image/png": "[encoded data removed]",
      "text/plain": [
       "<Figure size 1000x400 with 1 Axes>"
      ]
     },
     "metadata": {},
     "output_type": "display_data"
    }
   ],
   "source": [
    "# Time-of-the-day sales analysis\n",
    "plt.figure(figsize=(10, 4))\n",
    "sns.boxplot(x='Time', y='Sales', hue='Time', data=df, palette='Set1', legend=False)\n",
    "plt.title('Sales Distribution Across Different Times of the Day')\n",
    "plt.xlabel('Time of the Day')\n",
    "plt.ylabel('Total Sales (AUD)')\n",
    "plt.show()\n"
   ]
  },
  {
   "cell_type": "code",
   "execution_count": null,
   "id": "4970d8b0-7255-4494-97d6-3b6909101021",
   "metadata": {},
   "outputs": [],
   "source": []
  },
  {
   "cell_type": "code",
   "execution_count": null,
   "id": "96875728-48e5-49c0-8d3c-5be369cead9d",
   "metadata": {},
   "outputs": [],
   "source": []
  },
  {
   "cell_type": "code",
   "execution_count": null,
   "id": "500e31bf-66df-49c6-a73f-fbe88bbff3a6",
   "metadata": {},
   "outputs": [],
   "source": []
  },
  {
   "cell_type": "code",
   "execution_count": null,
   "id": "1935d6fa-dac7-431d-aead-5ef5b87feed1",
   "metadata": {},
   "outputs": [],
   "source": []
  },
  {
   "cell_type": "code",
   "execution_count": null,
   "id": "83068638-bfd4-4e15-993b-a3fdeb65451f",
   "metadata": {},
   "outputs": [],
   "source": []
  },
  {
   "cell_type": "code",
   "execution_count": null,
   "id": "54b80909-2fb2-434d-a054-459e5fa094d5",
   "metadata": {},
   "outputs": [],
   "source": []
  }
 ],
 "metadata": {
  "kernelspec": {
   "display_name": "Python [conda env:base] *",
   "language": "python",
   "name": "conda-base-py"
  },
  "language_info": {
   "codemirror_mode": {
    "name": "ipython",
    "version": 3
   },
   "file_extension": ".py",
   "mimetype": "text/x-python",
   "name": "python",
   "nbconvert_exporter": "python",
   "pygments_lexer": "ipython3",
   "version": "3.12.7"
  }
 },
 "nbformat": 4,
 "nbformat_minor": 5
}
